{
 "cells": [
  {
   "cell_type": "code",
   "execution_count": 3,
   "id": "innovative-interview",
   "metadata": {},
   "outputs": [],
   "source": [
    "import numpy as np\n",
    "import tensorflow as tf\n",
    "import matplotlib.pyplot as plt"
   ]
  },
  {
   "cell_type": "code",
   "execution_count": 4,
   "id": "distinguished-scientist",
   "metadata": {},
   "outputs": [],
   "source": [
    "x_train = [1, 2, 3, 4]\n",
    "y_train = [0, -1, -2, -3]"
   ]
  },
  {
   "cell_type": "code",
   "execution_count": 10,
   "id": "difficult-month",
   "metadata": {},
   "outputs": [
    {
     "data": {
      "image/png": "[encoded data removed]",
      "text/plain": [
       "<Figure size 432x288 with 1 Axes>"
      ]
     },
     "metadata": {
      "needs_background": "light"
     },
     "output_type": "display_data"
    }
   ],
   "source": [
    "plt.plot(x_train, y_train)\n",
    "plt.show()"
   ]
  },
  {
   "cell_type": "code",
   "execution_count": 6,
   "id": "rough-consumer",
   "metadata": {
    "scrolled": false
   },
   "outputs": [
    {
     "name": "stdout",
     "output_type": "stream",
     "text": [
      "Model: \"sequential\"\n",
      "_________________________________________________________________\n",
      "Layer (type)                 Output Shape              Param #   \n",
      "=================================================================\n",
      "dense (Dense)                (None, 1)                 2         \n",
      "=================================================================\n",
      "Total params: 2\n",
      "Trainable params: 2\n",
      "Non-trainable params: 0\n",
      "_________________________________________________________________\n",
      "Epoch 1/100\n",
      "1/1 [==============================] - 0s 959us/step - loss: 11.4074\n",
      "Epoch 2/100\n",
      "1/1 [==============================] - 0s 999us/step - loss: 5.2762\n",
      "Epoch 3/100\n",
      "1/1 [==============================] - 0s 998us/step - loss: 2.5143\n",
      "Epoch 4/100\n",
      "1/1 [==============================] - 0s 0s/step - loss: 1.2657\n",
      "Epoch 5/100\n",
      "1/1 [==============================] - 0s 999us/step - loss: 0.6970\n",
      "Epoch 6/100\n",
      "1/1 [==============================] - 0s 998us/step - loss: 0.4341\n",
      "Epoch 7/100\n",
      "1/1 [==============================] - 0s 997us/step - loss: 0.3089\n",
      "Epoch 8/100\n",
      "1/1 [==============================] - 0s 2ms/step - loss: 0.2460\n",
      "Epoch 9/100\n",
      "1/1 [==============================] - 0s 997us/step - loss: 0.2114\n",
      "Epoch 10/100\n",
      "1/1 [==============================] - 0s 2ms/step - loss: 0.1899\n",
      "Epoch 11/100\n",
      "1/1 [==============================] - 0s 0s/step - loss: 0.1747\n",
      "Epoch 12/100\n",
      "1/1 [==============================] - 0s 992us/step - loss: 0.1625\n",
      "Epoch 13/100\n",
      "1/1 [==============================] - 0s 997us/step - loss: 0.1521\n",
      "Epoch 14/100\n",
      "1/1 [==============================] - 0s 997us/step - loss: 0.1428\n",
      "Epoch 15/100\n",
      "1/1 [==============================] - 0s 997us/step - loss: 0.1342\n",
      "Epoch 16/100\n",
      "1/1 [==============================] - 0s 998us/step - loss: 0.1262\n",
      "Epoch 17/100\n",
      "1/1 [==============================] - 0s 997us/step - loss: 0.1187\n",
      "Epoch 18/100\n",
      "1/1 [==============================] - 0s 998us/step - loss: 0.1117\n",
      "Epoch 19/100\n",
      "1/1 [==============================] - 0s 998us/step - loss: 0.1051\n",
      "Epoch 20/100\n",
      "1/1 [==============================] - 0s 2ms/step - loss: 0.0989\n",
      "Epoch 21/100\n",
      "1/1 [==============================] - 0s 953us/step - loss: 0.0931\n",
      "Epoch 22/100\n",
      "1/1 [==============================] - 0s 997us/step - loss: 0.0876\n",
      "Epoch 23/100\n",
      "1/1 [==============================] - 0s 998us/step - loss: 0.0824\n",
      "Epoch 24/100\n",
      "1/1 [==============================] - 0s 2ms/step - loss: 0.0776\n",
      "Epoch 25/100\n",
      "1/1 [==============================] - 0s 1ms/step - loss: 0.0730\n",
      "Epoch 26/100\n",
      "1/1 [==============================] - 0s 997us/step - loss: 0.0687\n",
      "Epoch 27/100\n",
      "1/1 [==============================] - 0s 999us/step - loss: 0.0646\n",
      "Epoch 28/100\n",
      "1/1 [==============================] - 0s 998us/step - loss: 0.0608\n",
      "Epoch 29/100\n",
      "1/1 [==============================] - 0s 998us/step - loss: 0.0572\n",
      "Epoch 30/100\n",
      "1/1 [==============================] - 0s 2ms/step - loss: 0.0539\n",
      "Epoch 31/100\n",
      "1/1 [==============================] - 0s 3ms/step - loss: 0.0507\n",
      "Epoch 32/100\n",
      "1/1 [==============================] - 0s 996us/step - loss: 0.0477\n",
      "Epoch 33/100\n",
      "1/1 [==============================] - 0s 993us/step - loss: 0.0449\n",
      "Epoch 34/100\n",
      "1/1 [==============================] - 0s 0s/step - loss: 0.0422\n",
      "Epoch 35/100\n",
      "1/1 [==============================] - 0s 997us/step - loss: 0.0397\n",
      "Epoch 36/100\n",
      "1/1 [==============================] - 0s 997us/step - loss: 0.0374\n",
      "Epoch 37/100\n",
      "1/1 [==============================] - 0s 2ms/step - loss: 0.0352\n",
      "Epoch 38/100\n",
      "1/1 [==============================] - 0s 2ms/step - loss: 0.0331\n",
      "Epoch 39/100\n",
      "1/1 [==============================] - 0s 998us/step - loss: 0.0312\n",
      "Epoch 40/100\n",
      "1/1 [==============================] - 0s 2ms/step - loss: 0.0293\n",
      "Epoch 41/100\n",
      "1/1 [==============================] - 0s 2ms/step - loss: 0.0276\n",
      "Epoch 42/100\n",
      "1/1 [==============================] - 0s 2ms/step - loss: 0.0260\n",
      "Epoch 43/100\n",
      "1/1 [==============================] - 0s 3ms/step - loss: 0.0244\n",
      "Epoch 44/100\n",
      "1/1 [==============================] - 0s 997us/step - loss: 0.0230\n",
      "Epoch 45/100\n",
      "1/1 [==============================] - 0s 989us/step - loss: 0.0216\n",
      "Epoch 46/100\n",
      "1/1 [==============================] - 0s 0s/step - loss: 0.0204\n",
      "Epoch 47/100\n",
      "1/1 [==============================] - 0s 2ms/step - loss: 0.0192\n",
      "Epoch 48/100\n",
      "1/1 [==============================] - 0s 1ms/step - loss: 0.0180\n",
      "Epoch 49/100\n",
      "1/1 [==============================] - 0s 998us/step - loss: 0.0170\n",
      "Epoch 50/100\n",
      "1/1 [==============================] - 0s 997us/step - loss: 0.0160\n",
      "Epoch 51/100\n",
      "1/1 [==============================] - 0s 0s/step - loss: 0.0150\n",
      "Epoch 52/100\n",
      "1/1 [==============================] - 0s 997us/step - loss: 0.0141\n",
      "Epoch 53/100\n",
      "1/1 [==============================] - 0s 998us/step - loss: 0.0133\n",
      "Epoch 54/100\n",
      "1/1 [==============================] - 0s 2ms/step - loss: 0.0125\n",
      "Epoch 55/100\n",
      "1/1 [==============================] - 0s 999us/step - loss: 0.0118\n",
      "Epoch 56/100\n",
      "1/1 [==============================] - 0s 998us/step - loss: 0.0111\n",
      "Epoch 57/100\n",
      "1/1 [==============================] - 0s 998us/step - loss: 0.0104\n",
      "Epoch 58/100\n",
      "1/1 [==============================] - 0s 997us/step - loss: 0.0098\n",
      "Epoch 59/100\n",
      "1/1 [==============================] - 0s 2ms/step - loss: 0.0092\n",
      "Epoch 60/100\n",
      "1/1 [==============================] - 0s 997us/step - loss: 0.0087\n",
      "Epoch 61/100\n",
      "1/1 [==============================] - 0s 2ms/step - loss: 0.0082\n",
      "Epoch 62/100\n",
      "1/1 [==============================] - 0s 998us/step - loss: 0.0077\n",
      "Epoch 63/100\n",
      "1/1 [==============================] - 0s 998us/step - loss: 0.0072\n",
      "Epoch 64/100\n",
      "1/1 [==============================] - 0s 3ms/step - loss: 0.0068\n",
      "Epoch 65/100\n",
      "1/1 [==============================] - 0s 2ms/step - loss: 0.0064\n",
      "Epoch 66/100\n",
      "1/1 [==============================] - 0s 996us/step - loss: 0.0060\n",
      "Epoch 67/100\n",
      "1/1 [==============================] - 0s 997us/step - loss: 0.0057\n",
      "Epoch 68/100\n",
      "1/1 [==============================] - 0s 998us/step - loss: 0.0053\n",
      "Epoch 69/100\n",
      "1/1 [==============================] - 0s 2ms/step - loss: 0.0050\n",
      "Epoch 70/100\n",
      "1/1 [==============================] - 0s 0s/step - loss: 0.0047\n",
      "Epoch 71/100\n",
      "1/1 [==============================] - 0s 0s/step - loss: 0.0045\n",
      "Epoch 72/100\n",
      "1/1 [==============================] - 0s 0s/step - loss: 0.0042\n",
      "Epoch 73/100\n",
      "1/1 [==============================] - 0s 0s/step - loss: 0.0039\n",
      "Epoch 74/100\n",
      "1/1 [==============================] - 0s 997us/step - loss: 0.0037\n",
      "Epoch 75/100\n",
      "1/1 [==============================] - 0s 998us/step - loss: 0.0035\n",
      "Epoch 76/100\n",
      "1/1 [==============================] - 0s 0s/step - loss: 0.0033\n",
      "Epoch 77/100\n",
      "1/1 [==============================] - 0s 997us/step - loss: 0.0031\n",
      "Epoch 78/100\n",
      "1/1 [==============================] - 0s 990us/step - loss: 0.0029\n",
      "Epoch 79/100\n",
      "1/1 [==============================] - 0s 999us/step - loss: 0.0027\n",
      "Epoch 80/100\n",
      "1/1 [==============================] - 0s 0s/step - loss: 0.0026\n",
      "Epoch 81/100\n",
      "1/1 [==============================] - 0s 998us/step - loss: 0.0024\n",
      "Epoch 82/100\n",
      "1/1 [==============================] - 0s 997us/step - loss: 0.0023\n",
      "Epoch 83/100\n",
      "1/1 [==============================] - 0s 0s/step - loss: 0.0021\n",
      "Epoch 84/100\n",
      "1/1 [==============================] - 0s 998us/step - loss: 0.0020\n",
      "Epoch 85/100\n",
      "1/1 [==============================] - 0s 997us/step - loss: 0.0019\n",
      "Epoch 86/100\n",
      "1/1 [==============================] - 0s 2ms/step - loss: 0.0018\n",
      "Epoch 87/100\n",
      "1/1 [==============================] - 0s 2ms/step - loss: 0.0017\n",
      "Epoch 88/100\n",
      "1/1 [==============================] - 0s 2ms/step - loss: 0.0016\n",
      "Epoch 89/100\n",
      "1/1 [==============================] - 0s 998us/step - loss: 0.0015\n",
      "Epoch 90/100\n",
      "1/1 [==============================] - 0s 762us/step - loss: 0.0014\n",
      "Epoch 91/100\n",
      "1/1 [==============================] - 0s 998us/step - loss: 0.0013\n",
      "Epoch 92/100\n",
      "1/1 [==============================] - 0s 2ms/step - loss: 0.0012\n",
      "Epoch 93/100\n",
      "1/1 [==============================] - 0s 995us/step - loss: 0.0012\n",
      "Epoch 94/100\n",
      "1/1 [==============================] - 0s 0s/step - loss: 0.0011\n",
      "Epoch 95/100\n",
      "1/1 [==============================] - 0s 995us/step - loss: 0.0010\n",
      "Epoch 96/100\n",
      "1/1 [==============================] - 0s 997us/step - loss: 9.7439e-04\n",
      "Epoch 97/100\n",
      "1/1 [==============================] - 0s 1000us/step - loss: 9.1692e-04\n",
      "Epoch 98/100\n",
      "1/1 [==============================] - 0s 2ms/step - loss: 8.6284e-04\n",
      "Epoch 99/100\n",
      "1/1 [==============================] - 0s 2ms/step - loss: 8.1194e-04\n",
      "Epoch 100/100\n",
      "1/1 [==============================] - 0s 997us/step - loss: 7.6405e-04\n"
     ]
    }
   ],
   "source": [
    "tf.model = tf.keras.Sequential()\n",
    "tf.model.add(tf.keras.layers.Dense(units=1, input_dim=1))\n",
    "\n",
    "sgd = tf.keras.optimizers.SGD(lr=0.1)\n",
    "tf.model.compile(loss='mse', optimizer=sgd)\n",
    "\n",
    "tf.model.summary()\n",
    "\n",
    "# fit() trains the model and returns history of train\n",
    "history = tf.model.fit(x_train, y_train, epochs=100)"
   ]
  },
  {
   "cell_type": "code",
   "execution_count": 7,
   "id": "level-correspondence",
   "metadata": {},
   "outputs": [
    {
     "name": "stdout",
     "output_type": "stream",
     "text": [
      "[[-3.9540308]\n",
      " [-2.9763472]]\n"
     ]
    }
   ],
   "source": [
    "y_predict = tf.model.predict(np.array([5, 4]))\n",
    "print(y_predict)\n",
    "\n",
    "# 학습해서 구한 식 & W 값은 어떻게 봄?"
   ]
  },
  {
   "cell_type": "code",
   "execution_count": 19,
   "id": "scheduled-freeze",
   "metadata": {
    "scrolled": true
   },
   "outputs": [
    {
     "data": {
      "image/png": "[encoded data removed]",
      "text/plain": [
       "<Figure size 432x288 with 1 Axes>"
      ]
     },
     "metadata": {
      "needs_background": "light"
     },
     "output_type": "display_data"
    }
   ],
   "source": [
    "# Plot training & validation loss values\n",
    "plt.plot(history.history['loss'])\n",
    "plt.title('Model loss')\n",
    "plt.ylabel('Loss')\n",
    "plt.xlabel('Epoch')\n",
    "plt.legend(['Train', 'Test'], loc='upper left')\n",
    "plt.show()"
   ]
  }
 ],
 "metadata": {
  "kernelspec": {
   "display_name": "Python [conda env:tf]",
   "language": "python",
   "name": "conda-env-tf-py"
  },
  "language_info": {
   "codemirror_mode": {
    "name": "ipython",
    "version": 3
   },
   "file_extension": ".py",
   "mimetype": "text/x-python",
   "name": "python",
   "nbconvert_exporter": "python",
   "pygments_lexer": "ipython3",
   "version": "3.8.5"
  }
 },
 "nbformat": 4,
 "nbformat_minor": 5
}
