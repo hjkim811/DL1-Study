{
 "cells": [
  {
   "cell_type": "code",
   "execution_count": 24,
   "id": "clean-grave",
   "metadata": {},
   "outputs": [],
   "source": [
    "# Check TF version"
   ]
  },
  {
   "cell_type": "code",
   "execution_count": 25,
   "id": "worst-background",
   "metadata": {},
   "outputs": [
    {
     "data": {
      "text/plain": [
       "'2.3.0'"
      ]
     },
     "execution_count": 25,
     "metadata": {},
     "output_type": "execute_result"
    }
   ],
   "source": [
    "import tensorflow as tf\n",
    "tf.__version__"
   ]
  },
  {
   "cell_type": "code",
   "execution_count": 26,
   "id": "theoretical-classroom",
   "metadata": {},
   "outputs": [],
   "source": [
    "# Hello TensorFlow!"
   ]
  },
  {
   "cell_type": "code",
   "execution_count": 27,
   "id": "better-orange",
   "metadata": {},
   "outputs": [],
   "source": [
    "hello=tf.constant(\"Hello, HJ!\")"
   ]
  },
  {
   "cell_type": "code",
   "execution_count": 28,
   "id": "particular-registrar",
   "metadata": {},
   "outputs": [
    {
     "name": "stdout",
     "output_type": "stream",
     "text": [
      "tf.Tensor(b'Hello, HJ!', shape=(), dtype=string)\n"
     ]
    }
   ],
   "source": [
    "print(hello)"
   ]
  },
  {
   "cell_type": "code",
   "execution_count": 29,
   "id": "geological-regression",
   "metadata": {},
   "outputs": [],
   "source": [
    "# Tensors"
   ]
  },
  {
   "cell_type": "code",
   "execution_count": 30,
   "id": "sublime-panama",
   "metadata": {},
   "outputs": [],
   "source": [
    "tf1 = tf.constant(3)\n",
    "tf2 = tf.constant([1. ,2., 3.])\n",
    "tf3 = tf.constant([[1., 2., 3.], [4., 5., 6.]])\n",
    "tf4 = tf.constant([[[1., 2., 3.]], [[7., 8., 9.]]])"
   ]
  },
  {
   "cell_type": "code",
   "execution_count": 31,
   "id": "interracial-imperial",
   "metadata": {},
   "outputs": [
    {
     "name": "stdout",
     "output_type": "stream",
     "text": [
      "tf.Tensor(3, shape=(), dtype=int32)\n",
      "tf.Tensor([1. 2. 3.], shape=(3,), dtype=float32)\n",
      "tf.Tensor(\n",
      "[[1. 2. 3.]\n",
      " [4. 5. 6.]], shape=(2, 3), dtype=float32)\n",
      "tf.Tensor(\n",
      "[[[1. 2. 3.]]\n",
      "\n",
      " [[7. 8. 9.]]], shape=(2, 1, 3), dtype=float32)\n"
     ]
    }
   ],
   "source": [
    "print(tf1)\n",
    "print(tf2)\n",
    "print(tf3)\n",
    "print(tf4)"
   ]
  },
  {
   "cell_type": "code",
   "execution_count": 32,
   "id": "compliant-hughes",
   "metadata": {},
   "outputs": [],
   "source": [
    "# Computational Graph"
   ]
  },
  {
   "cell_type": "code",
   "execution_count": 33,
   "id": "accessory-sally",
   "metadata": {},
   "outputs": [],
   "source": [
    "node1 = tf.constant(3.0, tf.float32)\n",
    "node2 = tf.constant(4.0, tf.float32)"
   ]
  },
  {
   "cell_type": "code",
   "execution_count": 36,
   "id": "small-worse",
   "metadata": {},
   "outputs": [
    {
     "name": "stdout",
     "output_type": "stream",
     "text": [
      "tf.Tensor(3.0, shape=(), dtype=float32)\n",
      "tf.Tensor(4.0, shape=(), dtype=float32)\n"
     ]
    }
   ],
   "source": [
    "print(node1)\n",
    "print(node2)"
   ]
  },
  {
   "cell_type": "code",
   "execution_count": 34,
   "id": "running-surrey",
   "metadata": {},
   "outputs": [],
   "source": [
    "@tf.function # 이 줄 없어도 실행은 됨\n",
    "def add():\n",
    "    return node1 + node2"
   ]
  },
  {
   "cell_type": "code",
   "execution_count": 35,
   "id": "lightweight-affect",
   "metadata": {},
   "outputs": [
    {
     "name": "stdout",
     "output_type": "stream",
     "text": [
      "tf.Tensor(7.0, shape=(), dtype=float32)\n"
     ]
    }
   ],
   "source": [
    "output = add()\n",
    "print(output)"
   ]
  }
 ],
 "metadata": {
  "kernelspec": {
   "display_name": "Python [conda env:tf]",
   "language": "python",
   "name": "conda-env-tf-py"
  },
  "language_info": {
   "codemirror_mode": {
    "name": "ipython",
    "version": 3
   },
   "file_extension": ".py",
   "mimetype": "text/x-python",
   "name": "python",
   "nbconvert_exporter": "python",
   "pygments_lexer": "ipython3",
   "version": "3.8.5"
  }
 },
 "nbformat": 4,
 "nbformat_minor": 5
}
