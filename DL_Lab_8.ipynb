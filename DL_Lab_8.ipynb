{
 "cells": [
  {
   "cell_type": "code",
   "execution_count": 30,
   "id": "auburn-december",
   "metadata": {},
   "outputs": [],
   "source": [
    "# Lab 8은 TF2 코드 없어서 TF1 코드 + ppt 참고함\n",
    "import tensorflow as tf\n",
    "import numpy as np"
   ]
  },
  {
   "cell_type": "code",
   "execution_count": 159,
   "id": "divided-tutorial",
   "metadata": {},
   "outputs": [
    {
     "name": "stdout",
     "output_type": "stream",
     "text": [
      "[0. 1. 2. 3. 4. 5. 6.]\n",
      "1\n",
      "(7,)\n",
      "tf.Tensor([7], shape=(1,), dtype=int32)\n"
     ]
    }
   ],
   "source": [
    "# shape, rank, axis\n",
    "t = np.array([0.,1.,2.,3.,4.,5.,6.])\n",
    "print(t)\n",
    "print(t.ndim)\n",
    "print(t.shape)\n",
    "print(tf.shape(t))"
   ]
  },
  {
   "cell_type": "code",
   "execution_count": 160,
   "id": "purple-cleaners",
   "metadata": {},
   "outputs": [
    {
     "name": "stdout",
     "output_type": "stream",
     "text": [
      "tf.Tensor([0. 1. 2. 3. 4. 5. 6.], shape=(7,), dtype=float32)\n",
      "1\n",
      "(7,)\n",
      "tf.Tensor([7], shape=(1,), dtype=int32)\n"
     ]
    }
   ],
   "source": [
    "t = tf.constant([0.,1.,2.,3.,4.,5.,6.])\n",
    "print(t)\n",
    "print(t.ndim)\n",
    "print(t.shape)\n",
    "print(tf.shape(t))\n",
    "# 위 셀이랑 같음"
   ]
  },
  {
   "cell_type": "code",
   "execution_count": 192,
   "id": "precise-incidence",
   "metadata": {
    "scrolled": true
   },
   "outputs": [
    {
     "name": "stdout",
     "output_type": "stream",
     "text": [
      "tf.Tensor(\n",
      "[[1 2]\n",
      " [3 4]\n",
      " [5 6]], shape=(3, 2), dtype=int32)\n",
      "2\n",
      "(3, 2)\n",
      "tf.Tensor([3 2], shape=(2,), dtype=int32)\n"
     ]
    },
    {
     "data": {
      "text/plain": [
       "<tf.Tensor: shape=(2,), dtype=int32, numpy=array([3, 2])>"
      ]
     },
     "execution_count": 192,
     "metadata": {},
     "output_type": "execute_result"
    }
   ],
   "source": [
    "t = tf.constant([[1,2],[3,4],[5,6]])\n",
    "print(t)\n",
    "print(t.ndim)\n",
    "print(t.shape)\n",
    "print(tf.shape(t)) # 여기서 shape=(rank, )인 듯\n",
    "tf.shape(t)"
   ]
  },
  {
   "cell_type": "code",
   "execution_count": 193,
   "id": "normal-things",
   "metadata": {},
   "outputs": [
    {
     "data": {
      "text/plain": [
       "<tf.Tensor: shape=(3, 2), dtype=int32, numpy=\n",
       "array([[1, 2],\n",
       "       [3, 4],\n",
       "       [5, 6]])>"
      ]
     },
     "execution_count": 193,
     "metadata": {},
     "output_type": "execute_result"
    }
   ],
   "source": [
    "t # 여기서 shape: 진짜 shape임"
   ]
  },
  {
   "cell_type": "code",
   "execution_count": 181,
   "id": "painful-commander",
   "metadata": {},
   "outputs": [
    {
     "name": "stdout",
     "output_type": "stream",
     "text": [
      "4\n",
      "(1, 2, 3, 4)\n",
      "tf.Tensor([1 2 3 4], shape=(4,), dtype=int32)\n"
     ]
    },
    {
     "data": {
      "text/plain": [
       "<tf.Tensor: shape=(4,), dtype=int32, numpy=array([1, 2, 3, 4])>"
      ]
     },
     "execution_count": 181,
     "metadata": {},
     "output_type": "execute_result"
    }
   ],
   "source": [
    "t = tf.constant([[[[1,2,3,4],[5,6,7,8],[9,10,11,12]],[[13,14,15,16],[17,18,19,20],[21,22,23,24]]]])\n",
    "# print(t)\n",
    "print(t.ndim)\n",
    "print(t.shape)\n",
    "print(tf.shape(t)) \n",
    "tf.shape(t) "
   ]
  },
  {
   "cell_type": "code",
   "execution_count": 182,
   "id": "civilian-integrity",
   "metadata": {},
   "outputs": [
    {
     "name": "stdout",
     "output_type": "stream",
     "text": [
      "tf.Tensor(\n",
      "[[[[ 1  2  3  4]\n",
      "   [ 5  6  7  8]\n",
      "   [ 9 10 11 12]]\n",
      "\n",
      "  [[13 14 15 16]\n",
      "   [17 18 19 20]\n",
      "   [21 22 23 24]]]], shape=(1, 2, 3, 4), dtype=int32)\n"
     ]
    }
   ],
   "source": [
    "print(t)"
   ]
  },
  {
   "cell_type": "code",
   "execution_count": 36,
   "id": "removable-tuition",
   "metadata": {},
   "outputs": [
    {
     "data": {
      "text/plain": [
       "<tf.Tensor: shape=(2, 1), dtype=float32, numpy=\n",
       "array([[ 5.],\n",
       "       [11.]], dtype=float32)>"
      ]
     },
     "execution_count": 36,
     "metadata": {},
     "output_type": "execute_result"
    }
   ],
   "source": [
    "# matmul vs multiply (broadcasting)\n",
    "matrix1 = tf.constant([[1., 2.], [3., 4.]])\n",
    "matrix2 = tf.constant([[1.],[2.]])\n",
    "tf.matmul(matrix1, matrix2)"
   ]
  },
  {
   "cell_type": "code",
   "execution_count": 41,
   "id": "according-parent",
   "metadata": {},
   "outputs": [
    {
     "name": "stdout",
     "output_type": "stream",
     "text": [
      "tf.Tensor(\n",
      "[[1. 2.]\n",
      " [6. 8.]], shape=(2, 2), dtype=float32)\n"
     ]
    }
   ],
   "source": [
    "print(matrix1*matrix2)"
   ]
  },
  {
   "cell_type": "code",
   "execution_count": 48,
   "id": "standard-beatles",
   "metadata": {},
   "outputs": [
    {
     "data": {
      "text/plain": [
       "1.5"
      ]
     },
     "execution_count": 48,
     "metadata": {},
     "output_type": "execute_result"
    }
   ],
   "source": [
    "# reduce mean & sum\n",
    "tf.reduce_mean([1, 2], axis=0).numpy() # eval 대신 numpy 쓰라고 뜸(tf1/tf2 차이점인 듯)\n",
    "tf.reduce_mean([1.0, 2.0], axis=0).numpy()"
   ]
  },
  {
   "cell_type": "code",
   "execution_count": 82,
   "id": "indonesian-chess",
   "metadata": {},
   "outputs": [
    {
     "name": "stdout",
     "output_type": "stream",
     "text": [
      "(2, 2, 3)\n",
      "(2, 2, 3)\n"
     ]
    }
   ],
   "source": [
    "# reshape\n",
    "t = np.array([[[0, 1, 2], \n",
    "               [3, 4, 5]],\n",
    "              \n",
    "              [[6, 7, 8], \n",
    "               [9, 10, 11]]])\n",
    "print(t.shape)\n",
    "\n",
    "s = tf.constant([[[0, 1, 2], \n",
    "                 [3, 4, 5]],\n",
    "              \n",
    "                [[6, 7, 8], \n",
    "                 [9, 10, 11]]])\n",
    "print(s.shape)"
   ]
  },
  {
   "cell_type": "code",
   "execution_count": 83,
   "id": "flying-cambridge",
   "metadata": {},
   "outputs": [
    {
     "name": "stdout",
     "output_type": "stream",
     "text": [
      "[[ 0  1  2]\n",
      " [ 3  4  5]\n",
      " [ 6  7  8]\n",
      " [ 9 10 11]]\n",
      "\n",
      "[[ 0  1  2]\n",
      " [ 3  4  5]\n",
      " [ 6  7  8]\n",
      " [ 9 10 11]]\n"
     ]
    }
   ],
   "source": [
    "print(tf.reshape(t, shape=[-1, 3]).numpy())\n",
    "print()\n",
    "print(tf.reshape(s, shape=[-1, 3]).numpy())\n",
    "# t, s 중 어떤 걸 쓰나 결과는 같음"
   ]
  },
  {
   "cell_type": "code",
   "execution_count": 98,
   "id": "curious-editing",
   "metadata": {},
   "outputs": [
    {
     "name": "stdout",
     "output_type": "stream",
     "text": [
      "tf.Tensor(\n",
      "[[[[[ 0  1  2]]]]\n",
      "\n",
      "\n",
      "\n",
      " [[[[ 3  4  5]]]]\n",
      "\n",
      "\n",
      "\n",
      " [[[[ 6  7  8]]]]\n",
      "\n",
      "\n",
      "\n",
      " [[[[ 9 10 11]]]]], shape=(4, 1, 1, 1, 3), dtype=int32)\n"
     ]
    },
    {
     "data": {
      "text/plain": [
       "TensorShape([4, 1, 1, 1, 3])"
      ]
     },
     "execution_count": 98,
     "metadata": {},
     "output_type": "execute_result"
    }
   ],
   "source": [
    "p = tf.reshape(t, shape=[-1, 1, 1, 1, 3])\n",
    "print(p)\n",
    "p.shape"
   ]
  },
  {
   "cell_type": "code",
   "execution_count": 101,
   "id": "funded-perth",
   "metadata": {},
   "outputs": [
    {
     "name": "stdout",
     "output_type": "stream",
     "text": [
      "tf.Tensor(\n",
      "[[ 0  1  2]\n",
      " [ 3  4  5]\n",
      " [ 6  7  8]\n",
      " [ 9 10 11]], shape=(4, 3), dtype=int32)\n"
     ]
    }
   ],
   "source": [
    "q = tf.squeeze(p) # 여러 겹이 있어도 다 없애주는 듯\n",
    "print(q)"
   ]
  },
  {
   "cell_type": "code",
   "execution_count": 152,
   "id": "incorrect-stretch",
   "metadata": {
    "scrolled": false
   },
   "outputs": [],
   "source": [
    "q0 = tf.expand_dims(q, 0)\n",
    "q1 = tf.expand_dims(q, 1)\n",
    "q2 = tf.expand_dims(q, 2)\n",
    "# q3 = tf.expand_dims(q, 3) # 3번부터는 에러 뜸\n",
    "\n",
    "q11 = tf.expand_dims(q1, 1)"
   ]
  },
  {
   "cell_type": "code",
   "execution_count": 153,
   "id": "prospective-repeat",
   "metadata": {},
   "outputs": [
    {
     "name": "stdout",
     "output_type": "stream",
     "text": [
      "q0:\n",
      " [[[ 0  1  2]\n",
      "  [ 3  4  5]\n",
      "  [ 6  7  8]\n",
      "  [ 9 10 11]]] \n",
      "\n",
      "q1:\n",
      " [[[ 0  1  2]]\n",
      "\n",
      " [[ 3  4  5]]\n",
      "\n",
      " [[ 6  7  8]]\n",
      "\n",
      " [[ 9 10 11]]] \n",
      "\n",
      "q2:\n",
      " [[[ 0]\n",
      "  [ 1]\n",
      "  [ 2]]\n",
      "\n",
      " [[ 3]\n",
      "  [ 4]\n",
      "  [ 5]]\n",
      "\n",
      " [[ 6]\n",
      "  [ 7]\n",
      "  [ 8]]\n",
      "\n",
      " [[ 9]\n",
      "  [10]\n",
      "  [11]]] \n",
      "\n",
      "q11:\n",
      " [[[[ 0  1  2]]]\n",
      "\n",
      "\n",
      " [[[ 3  4  5]]]\n",
      "\n",
      "\n",
      " [[[ 6  7  8]]]\n",
      "\n",
      "\n",
      " [[[ 9 10 11]]]] \n",
      "\n"
     ]
    }
   ],
   "source": [
    "print('q0:\\n', q0.numpy(), '\\n')\n",
    "print('q1:\\n', q1.numpy(), '\\n')\n",
    "print('q2:\\n', q2.numpy(), '\\n')\n",
    "print('q11:\\n', q11.numpy(), '\\n')"
   ]
  },
  {
   "cell_type": "code",
   "execution_count": 155,
   "id": "received-affair",
   "metadata": {},
   "outputs": [
    {
     "name": "stdout",
     "output_type": "stream",
     "text": [
      "q: (4, 3)\n",
      "q0: (1, 4, 3)\n",
      "q1: (4, 1, 3)\n",
      "q2: (4, 3, 1)\n",
      "q11: (4, 1, 1, 3)\n"
     ]
    }
   ],
   "source": [
    "print('q:', q.shape)\n",
    "print('q0:', q0.shape)\n",
    "print('q1:', q1.shape)\n",
    "print('q2:', q2.shape)\n",
    "print('q11:', q11.shape)\n",
    "\n",
    "# tf.expand_dims의 정확한 작동방식:\n",
    "# 함수 한 번 실행하면 rank는 1개 늘어남\n",
    "# index값: 1을 어디에 삽입하느냐를 나타냄"
   ]
  },
  {
   "cell_type": "code",
   "execution_count": 196,
   "id": "authorized-special",
   "metadata": {},
   "outputs": [
    {
     "data": {
      "text/plain": [
       "<tf.Tensor: shape=(4,), dtype=int32, numpy=array([1, 0, 1, 0])>"
      ]
     },
     "execution_count": 196,
     "metadata": {},
     "output_type": "execute_result"
    }
   ],
   "source": [
    "# casting\n",
    "c = tf.cast([True, False, 1 == 1, 0 == 1], tf.int32)\n",
    "c"
   ]
  },
  {
   "cell_type": "code",
   "execution_count": 197,
   "id": "present-separate",
   "metadata": {},
   "outputs": [
    {
     "data": {
      "text/plain": [
       "<tf.Tensor: shape=(3, 2), dtype=int32, numpy=\n",
       "array([[1, 4],\n",
       "       [2, 5],\n",
       "       [3, 6]])>"
      ]
     },
     "execution_count": 197,
     "metadata": {},
     "output_type": "execute_result"
    }
   ],
   "source": [
    "# stack\n",
    "x = [1, 4]\n",
    "y = [2, 5]\n",
    "z = [3, 6]\n",
    "\n",
    "tf.stack([x,y,z])"
   ]
  },
  {
   "cell_type": "code",
   "execution_count": 200,
   "id": "silver-satisfaction",
   "metadata": {},
   "outputs": [
    {
     "data": {
      "text/plain": [
       "<tf.Tensor: shape=(3, 2), dtype=int32, numpy=\n",
       "array([[1, 4],\n",
       "       [2, 5],\n",
       "       [3, 6]])>"
      ]
     },
     "execution_count": 200,
     "metadata": {},
     "output_type": "execute_result"
    }
   ],
   "source": [
    "tf.stack([x,y,z], axis=0)"
   ]
  },
  {
   "cell_type": "code",
   "execution_count": 201,
   "id": "fewer-performance",
   "metadata": {},
   "outputs": [
    {
     "data": {
      "text/plain": [
       "<tf.Tensor: shape=(2, 3), dtype=int32, numpy=\n",
       "array([[1, 2, 3],\n",
       "       [4, 5, 6]])>"
      ]
     },
     "execution_count": 201,
     "metadata": {},
     "output_type": "execute_result"
    }
   ],
   "source": [
    "tf.stack([x,y,z], axis=1)"
   ]
  },
  {
   "cell_type": "code",
   "execution_count": 205,
   "id": "pursuant-advocacy",
   "metadata": {},
   "outputs": [
    {
     "data": {
      "text/plain": [
       "<tf.Tensor: shape=(2, 3), dtype=int32, numpy=\n",
       "array([[1, 1, 1],\n",
       "       [1, 1, 1]])>"
      ]
     },
     "execution_count": 205,
     "metadata": {},
     "output_type": "execute_result"
    }
   ],
   "source": [
    "# ones and zeros like\n",
    "x = [[0,1,2],[2,1,0]]\n",
    "tf.ones_like(x)"
   ]
  },
  {
   "cell_type": "code",
   "execution_count": 207,
   "id": "enclosed-television",
   "metadata": {},
   "outputs": [
    {
     "data": {
      "text/plain": [
       "<tf.Tensor: shape=(2, 3), dtype=int32, numpy=\n",
       "array([[0, 0, 0],\n",
       "       [0, 0, 0]])>"
      ]
     },
     "execution_count": 207,
     "metadata": {},
     "output_type": "execute_result"
    }
   ],
   "source": [
    "tf.zeros_like(x)"
   ]
  }
 ],
 "metadata": {
  "kernelspec": {
   "display_name": "Python [conda env:tf]",
   "language": "python",
   "name": "conda-env-tf-py"
  },
  "language_info": {
   "codemirror_mode": {
    "name": "ipython",
    "version": 3
   },
   "file_extension": ".py",
   "mimetype": "text/x-python",
   "name": "python",
   "nbconvert_exporter": "python",
   "pygments_lexer": "ipython3",
   "version": "3.8.5"
  }
 },
 "nbformat": 4,
 "nbformat_minor": 5
}
